{
 "cells": [
  {
   "cell_type": "code",
   "execution_count": 1,
   "metadata": {},
   "outputs": [],
   "source": [
    "# pip install pandas\n",
    "# pip3 install tabulate"
   ]
  },
  {
   "cell_type": "code",
   "execution_count": 2,
   "metadata": {},
   "outputs": [],
   "source": [
    "import pandas as pd\n",
    "from tabulate import tabulate\n",
    "import os\n",
    "from datetime import datetime\n",
    "os.pwd()"
   ]
  },
  {
   "cell_type": "code",
   "execution_count": 1,
   "metadata": {},
   "outputs": [
    {
     "ename": "NameError",
     "evalue": "name 'os' is not defined",
     "output_type": "error",
     "traceback": [
      "\u001b[1;31m---------------------------------------------------------------------------\u001b[0m",
      "\u001b[1;31mNameError\u001b[0m                                 Traceback (most recent call last)",
      "Cell \u001b[1;32mIn[1], line 2\u001b[0m\n\u001b[0;32m      1\u001b[0m \u001b[39m# change file names to date ranges only\u001b[39;00m\n\u001b[1;32m----> 2\u001b[0m os\u001b[39m.\u001b[39mchdir(\u001b[39m'\u001b[39m\u001b[39m./Analytics_daniels_Landing_Pages\u001b[39m\u001b[39m'\u001b[39m)\n\u001b[0;32m      3\u001b[0m \u001b[39m#os.chdir('..')\u001b[39;00m\n\u001b[0;32m      4\u001b[0m path \u001b[39m=\u001b[39m os\u001b[39m.\u001b[39mgetcwd()\n",
      "\u001b[1;31mNameError\u001b[0m: name 'os' is not defined"
     ]
    }
   ],
   "source": [
    "# change file names to date ranges only\n",
    "os.chdir('./Analytics_daniels_Landing_Pages')\n",
    "#os.chdir('..')\n",
    "path = os.getcwd()\n",
    "files = [ f for f in os.listdir(path) if os.path.isfile(os.path.join(path,f)) ]\n",
    "\n",
    "for f in files:\n",
    "    # print (f)\n",
    "    os.rename(os.path.join(path,f),os.path.join(path, f.replace('analytics_daniels.du.edu_landing_pages_', '').lower())) "
   ]
  },
  {
   "cell_type": "code",
   "execution_count": 16,
   "metadata": {},
   "outputs": [
    {
     "ename": "ValueError",
     "evalue": "Length mismatch: Expected axis has 3 elements, new values have 2 elements",
     "output_type": "error",
     "traceback": [
      "\u001b[1;31m---------------------------------------------------------------------------\u001b[0m",
      "\u001b[1;31mValueError\u001b[0m                                Traceback (most recent call last)",
      "Cell \u001b[1;32mIn[16], line 8\u001b[0m\n\u001b[0;32m      5\u001b[0m temp \u001b[39m=\u001b[39m temp\u001b[39m.\u001b[39mloc[temp[\u001b[39m\"\u001b[39m\u001b[39mLanding Page\u001b[39m\u001b[39m\"\u001b[39m] \u001b[39m==\u001b[39m \u001b[39m\"\u001b[39m\u001b[39mdaniels.du.edu/professional-mba/\u001b[39m\u001b[39m\"\u001b[39m] \u001b[39m# select professional-mba landing page only\u001b[39;00m\n\u001b[0;32m      6\u001b[0m temp \u001b[39m=\u001b[39m temp\u001b[39m.\u001b[39mdrop(columns\u001b[39m=\u001b[39m[\u001b[39m'\u001b[39m\u001b[39mLanding Page\u001b[39m\u001b[39m'\u001b[39m, \u001b[39m'\u001b[39m\u001b[39m%\u001b[39m\u001b[39m New Sessions\u001b[39m\u001b[39m'\u001b[39m, \u001b[39m'\u001b[39m\u001b[39mNew Users\u001b[39m\u001b[39m'\u001b[39m, \u001b[39m'\u001b[39m\u001b[39mBounce Rate\u001b[39m\u001b[39m'\u001b[39m, \u001b[39m'\u001b[39m\u001b[39mPages / Session\u001b[39m\u001b[39m'\u001b[39m, \n\u001b[0;32m      7\u001b[0m                     \u001b[39m'\u001b[39m\u001b[39mAvg. Session Duration\u001b[39m\u001b[39m'\u001b[39m, \u001b[39m'\u001b[39m\u001b[39mGrad Apply (Goal 3 Value)\u001b[39m\u001b[39m'\u001b[39m]) \u001b[39m# remove unnecessary columns\u001b[39;00m\n\u001b[1;32m----> 8\u001b[0m temp\u001b[39m.\u001b[39;49mcolumns \u001b[39m=\u001b[39m [\u001b[39m'\u001b[39m\u001b[39mSessions\u001b[39m\u001b[39m'\u001b[39m, \u001b[39m'\u001b[39m\u001b[39mGrad Apply\u001b[39m\u001b[39m'\u001b[39m] \u001b[39m# shorten column names\u001b[39;00m\n\u001b[0;32m      9\u001b[0m \u001b[39m# add date range from file name\u001b[39;00m\n\u001b[0;32m     10\u001b[0m temp[\u001b[39m'\u001b[39m\u001b[39mWeek\u001b[39m\u001b[39m'\u001b[39m] \u001b[39m=\u001b[39m week\n",
      "File \u001b[1;32mc:\\Users\\Evan\\AppData\\Local\\Programs\\Python\\Python310\\lib\\site-packages\\pandas\\core\\generic.py:5915\u001b[0m, in \u001b[0;36mNDFrame.__setattr__\u001b[1;34m(self, name, value)\u001b[0m\n\u001b[0;32m   5913\u001b[0m \u001b[39mtry\u001b[39;00m:\n\u001b[0;32m   5914\u001b[0m     \u001b[39mobject\u001b[39m\u001b[39m.\u001b[39m\u001b[39m__getattribute__\u001b[39m(\u001b[39mself\u001b[39m, name)\n\u001b[1;32m-> 5915\u001b[0m     \u001b[39mreturn\u001b[39;00m \u001b[39mobject\u001b[39;49m\u001b[39m.\u001b[39;49m\u001b[39m__setattr__\u001b[39;49m(\u001b[39mself\u001b[39;49m, name, value)\n\u001b[0;32m   5916\u001b[0m \u001b[39mexcept\u001b[39;00m \u001b[39mAttributeError\u001b[39;00m:\n\u001b[0;32m   5917\u001b[0m     \u001b[39mpass\u001b[39;00m\n",
      "File \u001b[1;32mc:\\Users\\Evan\\AppData\\Local\\Programs\\Python\\Python310\\lib\\site-packages\\pandas\\_libs\\properties.pyx:69\u001b[0m, in \u001b[0;36mpandas._libs.properties.AxisProperty.__set__\u001b[1;34m()\u001b[0m\n",
      "File \u001b[1;32mc:\\Users\\Evan\\AppData\\Local\\Programs\\Python\\Python310\\lib\\site-packages\\pandas\\core\\generic.py:823\u001b[0m, in \u001b[0;36mNDFrame._set_axis\u001b[1;34m(self, axis, labels)\u001b[0m\n\u001b[0;32m    821\u001b[0m \u001b[39mdef\u001b[39;00m \u001b[39m_set_axis\u001b[39m(\u001b[39mself\u001b[39m, axis: \u001b[39mint\u001b[39m, labels: AnyArrayLike \u001b[39m|\u001b[39m \u001b[39mlist\u001b[39m) \u001b[39m-\u001b[39m\u001b[39m>\u001b[39m \u001b[39mNone\u001b[39;00m:\n\u001b[0;32m    822\u001b[0m     labels \u001b[39m=\u001b[39m ensure_index(labels)\n\u001b[1;32m--> 823\u001b[0m     \u001b[39mself\u001b[39;49m\u001b[39m.\u001b[39;49m_mgr\u001b[39m.\u001b[39;49mset_axis(axis, labels)\n\u001b[0;32m    824\u001b[0m     \u001b[39mself\u001b[39m\u001b[39m.\u001b[39m_clear_item_cache()\n",
      "File \u001b[1;32mc:\\Users\\Evan\\AppData\\Local\\Programs\\Python\\Python310\\lib\\site-packages\\pandas\\core\\internals\\managers.py:230\u001b[0m, in \u001b[0;36mBaseBlockManager.set_axis\u001b[1;34m(self, axis, new_labels)\u001b[0m\n\u001b[0;32m    228\u001b[0m \u001b[39mdef\u001b[39;00m \u001b[39mset_axis\u001b[39m(\u001b[39mself\u001b[39m, axis: \u001b[39mint\u001b[39m, new_labels: Index) \u001b[39m-\u001b[39m\u001b[39m>\u001b[39m \u001b[39mNone\u001b[39;00m:\n\u001b[0;32m    229\u001b[0m     \u001b[39m# Caller is responsible for ensuring we have an Index object.\u001b[39;00m\n\u001b[1;32m--> 230\u001b[0m     \u001b[39mself\u001b[39;49m\u001b[39m.\u001b[39;49m_validate_set_axis(axis, new_labels)\n\u001b[0;32m    231\u001b[0m     \u001b[39mself\u001b[39m\u001b[39m.\u001b[39maxes[axis] \u001b[39m=\u001b[39m new_labels\n",
      "File \u001b[1;32mc:\\Users\\Evan\\AppData\\Local\\Programs\\Python\\Python310\\lib\\site-packages\\pandas\\core\\internals\\base.py:70\u001b[0m, in \u001b[0;36mDataManager._validate_set_axis\u001b[1;34m(self, axis, new_labels)\u001b[0m\n\u001b[0;32m     67\u001b[0m     \u001b[39mpass\u001b[39;00m\n\u001b[0;32m     69\u001b[0m \u001b[39melif\u001b[39;00m new_len \u001b[39m!=\u001b[39m old_len:\n\u001b[1;32m---> 70\u001b[0m     \u001b[39mraise\u001b[39;00m \u001b[39mValueError\u001b[39;00m(\n\u001b[0;32m     71\u001b[0m         \u001b[39mf\u001b[39m\u001b[39m\"\u001b[39m\u001b[39mLength mismatch: Expected axis has \u001b[39m\u001b[39m{\u001b[39;00mold_len\u001b[39m}\u001b[39;00m\u001b[39m elements, new \u001b[39m\u001b[39m\"\u001b[39m\n\u001b[0;32m     72\u001b[0m         \u001b[39mf\u001b[39m\u001b[39m\"\u001b[39m\u001b[39mvalues have \u001b[39m\u001b[39m{\u001b[39;00mnew_len\u001b[39m}\u001b[39;00m\u001b[39m elements\u001b[39m\u001b[39m\"\u001b[39m\n\u001b[0;32m     73\u001b[0m     )\n",
      "\u001b[1;31mValueError\u001b[0m: Length mismatch: Expected axis has 3 elements, new values have 2 elements"
     ]
    }
   ],
   "source": [
    "df = pd.DataFrame()\n",
    "week = 1\n",
    "for f in files:\n",
    "    temp = pd.read_csv(f, skiprows=6) # skip header\n",
    "    temp = temp.loc[temp[\"Landing Page\"] == \"daniels.du.edu/professional-mba/\"] # select professional-mba landing page only\n",
    "    temp = temp.drop(columns=['Landing Page', '% New Sessions', 'New Users', 'Bounce Rate', 'Pages / Session', \n",
    "                        'Avg. Session Duration', 'Grad Apply (Goal 3 Value)']) # remove unnecessary columns\n",
    "    temp.columns = ['Sessions', 'Grad Apply %', 'Grad Apply'] # shorten column names\n",
    "    # add date range from file name\n",
    "    temp['Week'] = week\n",
    "    week = week + 1\n",
    "    temp['Begin Date'] = datetime.strptime(f[0:8], '%Y%m%d').date()\n",
    "    temp['End Date'] = datetime.strptime(f[9:17], '%Y%m%d').date()\n",
    "    df = pd.concat([df, temp])"
   ]
  },
  {
   "cell_type": "code",
   "execution_count": 13,
   "metadata": {},
   "outputs": [
    {
     "name": "stdout",
     "output_type": "stream",
     "text": [
      "  Sessions  Grad Apply      Week  Begin Date    End Date\n",
      "----------  ------------  ------  ------------  ----------\n",
      "        69  1.45%              1  2022-04-10    2022-04-16\n",
      "       106  0.94%              2  2022-04-17    2022-04-23\n",
      "       156  1.28%              3  2022-04-24    2022-04-30\n",
      "       119  5.04%              4  2022-05-01    2022-05-07\n",
      "       137  2.92%              5  2022-05-08    2022-05-14\n",
      "       135  2.96%              6  2022-05-15    2022-05-21\n",
      "       124  4.84%              7  2022-05-22    2022-05-28\n",
      "       115  2.61%              8  2022-05-29    2022-06-04\n",
      "       102  4.90%              9  2022-06-05    2022-06-11\n",
      "       127  3.94%             10  2022-06-12    2022-06-18\n",
      "       111  1.80%             11  2022-06-19    2022-06-25\n",
      "        96  0.00%             12  2022-06-26    2022-07-02\n",
      "        82  0.00%             13  2022-07-03    2022-07-09\n",
      "       100  2.00%             14  2022-07-10    2022-07-16\n",
      "        83  1.20%             15  2022-07-17    2022-07-23\n",
      "        84  2.38%             16  2022-07-24    2022-07-30\n",
      "        81  1.23%             17  2022-07-31    2022-08-06\n",
      "        72  2.78%             18  2022-08-07    2022-08-13\n",
      "        72  2.78%             19  2022-08-14    2022-08-20\n",
      "        71  2.82%             20  2022-08-21    2022-08-27\n",
      "        59  3.39%             21  2022-08-28    2022-09-03\n"
     ]
    }
   ],
   "source": [
    "print(tabulate(df, showindex=False, headers=df.columns))"
   ]
  },
  {
   "cell_type": "code",
   "execution_count": 14,
   "metadata": {},
   "outputs": [],
   "source": [
    "os.chdir('..')\n",
    "df.to_csv('grad_apply.csv', index=False)"
   ]
  }
 ],
 "metadata": {
  "kernelspec": {
   "display_name": "Python 3",
   "language": "python",
   "name": "python3"
  },
  "language_info": {
   "codemirror_mode": {
    "name": "ipython",
    "version": 3
   },
   "file_extension": ".py",
   "mimetype": "text/x-python",
   "name": "python",
   "nbconvert_exporter": "python",
   "pygments_lexer": "ipython3",
   "version": "3.10.7"
  },
  "orig_nbformat": 4
 },
 "nbformat": 4,
 "nbformat_minor": 2
}
